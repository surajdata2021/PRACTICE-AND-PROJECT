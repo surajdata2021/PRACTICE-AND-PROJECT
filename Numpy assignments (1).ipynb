{
 "cells": [
  {
   "cell_type": "code",
   "execution_count": 1,
   "id": "c7ca3a8e",
   "metadata": {},
   "outputs": [],
   "source": [
    "import numpy as np"
   ]
  },
  {
   "cell_type": "code",
   "execution_count": 2,
   "id": "829204cc",
   "metadata": {},
   "outputs": [
    {
     "data": {
      "text/plain": [
       "array([[ 2,  3,  4],\n",
       "       [ 5,  6,  7],\n",
       "       [ 8,  9, 10]])"
      ]
     },
     "execution_count": 2,
     "metadata": {},
     "output_type": "execute_result"
    }
   ],
   "source": [
    "np.arange(2,11).reshape((3,3))"
   ]
  },
  {
   "cell_type": "code",
   "execution_count": null,
   "id": "a5ae2d95",
   "metadata": {},
   "outputs": [],
   "source": [
    "li = []\n",
    "n = int(input(\"number of values: \"))\n",
    "for i in range(n):\n",
    "  li.append(int(input()))\n",
    "np.array(li,dtype=float)"
   ]
  },
  {
   "cell_type": "code",
   "execution_count": null,
   "id": "dcee7b2b",
   "metadata": {},
   "outputs": [],
   "source": [
    "np.array([input(),input(),input()],dtype=float)"
   ]
  },
  {
   "cell_type": "code",
   "execution_count": null,
   "id": "cc461385",
   "metadata": {},
   "outputs": [],
   "source": [
    "n1 = np.array([1,2,3])\n",
    "n2 = np.append(n1,[int(input()),int(input())])\n",
    "n2"
   ]
  },
  {
   "cell_type": "code",
   "execution_count": null,
   "id": "66f427c2",
   "metadata": {},
   "outputs": [],
   "source": [
    "n2 = np.append(n2,l)"
   ]
  },
  {
   "cell_type": "code",
   "execution_count": null,
   "id": "bb11ab21",
   "metadata": {},
   "outputs": [],
   "source": [
    "n2"
   ]
  },
  {
   "cell_type": "code",
   "execution_count": null,
   "id": "ef1d3ff7",
   "metadata": {},
   "outputs": [],
   "source": [
    "n1 = np.array([1,2,3])\n",
    "n2 = np.array([4,5,6])\n",
    "n3 = np.append(n1,n2)"
   ]
  },
  {
   "cell_type": "code",
   "execution_count": null,
   "id": "c9ab999f",
   "metadata": {},
   "outputs": [],
   "source": [
    "n3"
   ]
  },
  {
   "cell_type": "code",
   "execution_count": null,
   "id": "118b465d",
   "metadata": {},
   "outputs": [],
   "source": [
    "n4 = np.array([3,4,5])\n",
    "n5 = np.array([4,5,6])\n",
    "sumArray = n4 + n5\n",
    "sumArray"
   ]
  },
  {
   "cell_type": "code",
   "execution_count": null,
   "id": "874a3b84",
   "metadata": {},
   "outputs": [],
   "source": [
    "np.add(n4,n5)"
   ]
  },
  {
   "cell_type": "code",
   "execution_count": null,
   "id": "7462cff4",
   "metadata": {},
   "outputs": [],
   "source": [
    "n4 ** n5"
   ]
  },
  {
   "cell_type": "code",
   "execution_count": null,
   "id": "2719254c",
   "metadata": {},
   "outputs": [],
   "source": [
    "2 ** 4"
   ]
  },
  {
   "cell_type": "code",
   "execution_count": 34,
   "id": "d68c8ffe",
   "metadata": {},
   "outputs": [
    {
     "data": {
      "text/plain": [
       "[1, 3, 5, 7, 9]"
      ]
     },
     "execution_count": 34,
     "metadata": {},
     "output_type": "execute_result"
    }
   ],
   "source": [
    "list(range(1,11,2))"
   ]
  },
  {
   "cell_type": "code",
   "execution_count": 35,
   "id": "09851e86",
   "metadata": {},
   "outputs": [
    {
     "data": {
      "text/plain": [
       "array([[10, 20, 30],\n",
       "       [40, 50, 60],\n",
       "       [70, 80, 90]])"
      ]
     },
     "execution_count": 35,
     "metadata": {},
     "output_type": "execute_result"
    }
   ],
   "source": [
    "array1 = np.arange(10,91,10)\n",
    "array1 = array1.reshape(3,3)\n",
    "array1"
   ]
  },
  {
   "cell_type": "code",
   "execution_count": 36,
   "id": "0d5e246e",
   "metadata": {},
   "outputs": [
    {
     "data": {
      "text/plain": [
       "array([10, 20, 30])"
      ]
     },
     "execution_count": 36,
     "metadata": {},
     "output_type": "execute_result"
    }
   ],
   "source": [
    "array1[0]"
   ]
  },
  {
   "cell_type": "code",
   "execution_count": 37,
   "id": "4bf13b65",
   "metadata": {},
   "outputs": [
    {
     "data": {
      "text/plain": [
       "90"
      ]
     },
     "execution_count": 37,
     "metadata": {},
     "output_type": "execute_result"
    }
   ],
   "source": [
    "array1[-1][-1]"
   ]
  },
  {
   "cell_type": "code",
   "execution_count": null,
   "id": "548c7d22",
   "metadata": {},
   "outputs": [],
   "source": [
    "lis = [7,8,9,\"hey\"]"
   ]
  },
  {
   "cell_type": "code",
   "execution_count": null,
   "id": "179ce251",
   "metadata": {},
   "outputs": [],
   "source": [
    "lis[-1][-1]"
   ]
  },
  {
   "cell_type": "code",
   "execution_count": 38,
   "id": "c2bab17c",
   "metadata": {},
   "outputs": [
    {
     "data": {
      "text/plain": [
       "array([   81,  1024, 15625], dtype=int32)"
      ]
     },
     "execution_count": 38,
     "metadata": {},
     "output_type": "execute_result"
    }
   ],
   "source": [
    "arr1 = np.array([3,4,5])\n",
    "arr2 = np.array([4,5,6])\n",
    "exp = arr1 ** arr2\n",
    "exp"
   ]
  },
  {
   "cell_type": "code",
   "execution_count": null,
   "id": "36fb8dd4",
   "metadata": {},
   "outputs": [],
   "source": [
    "a=[]\n",
    "b=[]\n",
    "n=int(input(\"enter length of array a:\"))\n",
    "for i in range(n):\n",
    "    a.append(int(input()))\n",
    "n=int(input(\"enter length of array b:\"))\n",
    "for i in range(n):\n",
    "    b.append(int(input()))\n",
    "x=np.array(a)\n",
    "y=np.array(b)\n",
    "sumarray = x+y"
   ]
  },
  {
   "cell_type": "code",
   "execution_count": null,
   "id": "fdcea889",
   "metadata": {},
   "outputs": [],
   "source": [
    "sumarray"
   ]
  },
  {
   "cell_type": "code",
   "execution_count": 14,
   "id": "f6c06e95",
   "metadata": {},
   "outputs": [
    {
     "name": "stdout",
     "output_type": "stream",
     "text": [
      "[[8 8 8 8 8]\n",
      " [8 8 8 8 8]]\n"
     ]
    }
   ],
   "source": [
    "def fun1(t,v):\n",
    "  return np.full(t,v)\n",
    "\n",
    "print(fun1((2,5),8))"
   ]
  },
  {
   "cell_type": "code",
   "execution_count": 15,
   "id": "517ee6fd",
   "metadata": {},
   "outputs": [
    {
     "data": {
      "text/plain": [
       "[1, 2, 3]"
      ]
     },
     "execution_count": 15,
     "metadata": {},
     "output_type": "execute_result"
    }
   ],
   "source": [
    "lit = [[1,2,3],[4,5,6],[7,8,9]]\n",
    "lit[0]"
   ]
  },
  {
   "cell_type": "code",
   "execution_count": 20,
   "id": "6549e299",
   "metadata": {},
   "outputs": [],
   "source": [
    "def fun2(arrays):\n",
    "  sum = np.zeros(len(arrays[0]),dtype=int)\n",
    "  for i in arrays:\n",
    "    sum = sum + i\n",
    "  return sum"
   ]
  },
  {
   "cell_type": "code",
   "execution_count": 21,
   "id": "46e77bb3",
   "metadata": {},
   "outputs": [
    {
     "data": {
      "text/plain": [
       "array([12, 15, 18])"
      ]
     },
     "execution_count": 21,
     "metadata": {},
     "output_type": "execute_result"
    }
   ],
   "source": [
    "fun2([np.array([1,2,3]),np.array([4,5,6]),np.array([7,8,9])])"
   ]
  },
  {
   "cell_type": "code",
   "execution_count": 22,
   "id": "1f445dc5",
   "metadata": {},
   "outputs": [
    {
     "data": {
      "text/plain": [
       "array([[0, 0, 0]])"
      ]
     },
     "execution_count": 22,
     "metadata": {},
     "output_type": "execute_result"
    }
   ],
   "source": [
    "np.zeros((1,3),dtype=int)"
   ]
  },
  {
   "cell_type": "code",
   "execution_count": 23,
   "id": "58da163a",
   "metadata": {},
   "outputs": [
    {
     "data": {
      "text/plain": [
       "1.0"
      ]
     },
     "execution_count": 23,
     "metadata": {},
     "output_type": "execute_result"
    }
   ],
   "source": [
    "0.0 + 1"
   ]
  },
  {
   "cell_type": "code",
   "execution_count": 24,
   "id": "c2caeada",
   "metadata": {},
   "outputs": [
    {
     "data": {
      "text/plain": [
       "array([[1, 2]])"
      ]
     },
     "execution_count": 24,
     "metadata": {},
     "output_type": "execute_result"
    }
   ],
   "source": [
    "def top(matrix,N,M):\n",
    "  return matrix[:N,:M]\n",
    "\n",
    "mat = np.arange(1,10).reshape(3,3)\n",
    "top(mat,1,2)"
   ]
  },
  {
   "cell_type": "code",
   "execution_count": null,
   "id": "6fbdef4e",
   "metadata": {},
   "outputs": [],
   "source": [
    "matrix"
   ]
  },
  {
   "cell_type": "code",
   "execution_count": 27,
   "id": "a60ee84d",
   "metadata": {},
   "outputs": [
    {
     "data": {
      "text/plain": [
       "array([[5, 6],\n",
       "       [8, 9]])"
      ]
     },
     "execution_count": 27,
     "metadata": {},
     "output_type": "execute_result"
    }
   ],
   "source": [
    "def bottom(matrix,N,M):\n",
    "  return matrix[-N:,-M:]\n",
    "\n",
    "mat = np.arange(1,10).reshape(3,3)\n",
    "bottom(mat,2,2)"
   ]
  },
  {
   "cell_type": "code",
   "execution_count": 28,
   "id": "4ec1e598",
   "metadata": {},
   "outputs": [
    {
     "data": {
      "text/plain": [
       "{'mean': 2.0, 'std_dev': 0.816496580927726}"
      ]
     },
     "execution_count": 28,
     "metadata": {},
     "output_type": "execute_result"
    }
   ],
   "source": [
    "def fun3(arr):\n",
    "  return {'mean':arr.mean(),'std_dev':arr.std()}\n",
    "\n",
    "fun3(np.array([1,2,3]))"
   ]
  },
  {
   "cell_type": "code",
   "execution_count": 29,
   "id": "0dd88356",
   "metadata": {},
   "outputs": [],
   "source": [
    "l1 = [1,2,3]\n",
    "l1.append(4)\n",
    "l1.append(5)"
   ]
  },
  {
   "cell_type": "code",
   "execution_count": 30,
   "id": "3ef29357",
   "metadata": {},
   "outputs": [
    {
     "data": {
      "text/plain": [
       "[1, 2, 3, 4, 5]"
      ]
     },
     "execution_count": 30,
     "metadata": {},
     "output_type": "execute_result"
    }
   ],
   "source": [
    "l1"
   ]
  },
  {
   "cell_type": "code",
   "execution_count": 31,
   "id": "3734e709",
   "metadata": {},
   "outputs": [
    {
     "data": {
      "text/plain": [
       "[1, 2, 3, 4, 5, 6, 7, 8, 9, 10]"
      ]
     },
     "execution_count": 31,
     "metadata": {},
     "output_type": "execute_result"
    }
   ],
   "source": [
    "l1.extend([6,7,8,9,10])\n",
    "l1"
   ]
  },
  {
   "cell_type": "code",
   "execution_count": null,
   "id": "1d61fef3",
   "metadata": {},
   "outputs": [],
   "source": []
  },
  {
   "cell_type": "code",
   "execution_count": null,
   "id": "6567edb4",
   "metadata": {},
   "outputs": [],
   "source": []
  }
 ],
 "metadata": {
  "kernelspec": {
   "display_name": "Python 3 (ipykernel)",
   "language": "python",
   "name": "python3"
  },
  "language_info": {
   "codemirror_mode": {
    "name": "ipython",
    "version": 3
   },
   "file_extension": ".py",
   "mimetype": "text/x-python",
   "name": "python",
   "nbconvert_exporter": "python",
   "pygments_lexer": "ipython3",
   "version": "3.9.7"
  }
 },
 "nbformat": 4,
 "nbformat_minor": 5
}
