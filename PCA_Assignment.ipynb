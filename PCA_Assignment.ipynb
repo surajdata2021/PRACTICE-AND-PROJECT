{
  "nbformat": 4,
  "nbformat_minor": 0,
  "metadata": {
    "colab": {
      "name": "PCA Assignment.ipynb",
      "provenance": []
    },
    "kernelspec": {
      "name": "python3",
      "display_name": "Python 3"
    },
    "language_info": {
      "name": "python"
    }
  },
  "cells": [
    {
      "cell_type": "code",
      "execution_count": 1,
      "metadata": {
        "id": "_BP4mQXgewTv"
      },
      "outputs": [],
      "source": [
        "import numpy as np\n",
        "import pandas as pd\n",
        "import matplotlib.pyplot as plt\n",
        "import seaborn as sns\n",
        "from sklearn.datasets import load_digits\n",
        "\n",
        "# to suppress the warnings:\n",
        "from warnings import filterwarnings\n",
        "filterwarnings('ignore')"
      ]
    },
    {
      "cell_type": "code",
      "source": [
        "digits=load_digits()"
      ],
      "metadata": {
        "id": "SBwz8vGqe_xr"
      },
      "execution_count": 2,
      "outputs": []
    },
    {
      "cell_type": "code",
      "source": [
        "digits.keys()"
      ],
      "metadata": {
        "colab": {
          "base_uri": "https://localhost:8080/"
        },
        "id": "Zk5E2czqe_5q",
        "outputId": "22a2c6dc-9ee1-4491-8b62-dd7a16c317b1"
      },
      "execution_count": 3,
      "outputs": [
        {
          "output_type": "execute_result",
          "data": {
            "text/plain": [
              "dict_keys(['data', 'target', 'frame', 'feature_names', 'target_names', 'images', 'DESCR'])"
            ]
          },
          "metadata": {},
          "execution_count": 3
        }
      ]
    },
    {
      "cell_type": "code",
      "source": [
        "X=digits.data\n",
        "y=digits.target\n",
        "\n",
        "X.shape,y.shape"
      ],
      "metadata": {
        "colab": {
          "base_uri": "https://localhost:8080/"
        },
        "id": "IusDIGg5e_-H",
        "outputId": "42b5b134-3306-44d8-eb6f-a5b4492563fb"
      },
      "execution_count": 4,
      "outputs": [
        {
          "output_type": "execute_result",
          "data": {
            "text/plain": [
              "((1797, 64), (1797,))"
            ]
          },
          "metadata": {},
          "execution_count": 4
        }
      ]
    },
    {
      "cell_type": "code",
      "source": [
        "np.unique(y)"
      ],
      "metadata": {
        "colab": {
          "base_uri": "https://localhost:8080/"
        },
        "id": "KiRki-tkfACT",
        "outputId": "045ab000-d487-48c2-cf2d-8a5044902a05"
      },
      "execution_count": 5,
      "outputs": [
        {
          "output_type": "execute_result",
          "data": {
            "text/plain": [
              "array([0, 1, 2, 3, 4, 5, 6, 7, 8, 9])"
            ]
          },
          "metadata": {},
          "execution_count": 5
        }
      ]
    },
    {
      "cell_type": "code",
      "source": [
        "from sklearn.preprocessing import StandardScaler\n",
        "from sklearn.decomposition import PCA\n",
        "\n",
        "from mpl_toolkits.mplot3d import Axes3D\n",
        "from sklearn import datasets\n",
        "\n",
        "from sklearn.metrics import confusion_matrix\n",
        "from sklearn.cluster import KMeans\n",
        "from sklearn.metrics import classification_report\n",
        "from sklearn.metrics import accuracy_score\n",
        "from sklearn.model_selection import train_test_split"
      ],
      "metadata": {
        "id": "-iW8NnZafAHH"
      },
      "execution_count": 6,
      "outputs": []
    },
    {
      "cell_type": "code",
      "source": [
        "#Standardize the data \n",
        "X_std= StandardScaler().fit_transform(X)\n",
        "X_std.shape"
      ],
      "metadata": {
        "colab": {
          "base_uri": "https://localhost:8080/"
        },
        "id": "PYcLba-AfSvb",
        "outputId": "4a5be019-8206-4575-cf18-8a19f5d29f9b"
      },
      "execution_count": 7,
      "outputs": [
        {
          "output_type": "execute_result",
          "data": {
            "text/plain": [
              "(1797, 64)"
            ]
          },
          "metadata": {},
          "execution_count": 7
        }
      ]
    },
    {
      "cell_type": "code",
      "source": [
        "#Covariance Matrix\n",
        "cov_matrix = np.cov(X_std.T)\n",
        "print(cov_matrix.shape)\n",
        "print('Covariance Matrix \\n', cov_matrix)\n",
        "print(cov_matrix.min())\n",
        "print(cov_matrix.max())"
      ],
      "metadata": {
        "colab": {
          "base_uri": "https://localhost:8080/"
        },
        "id": "gnUDZA6pfS2x",
        "outputId": "32467e13-d41a-4adb-d348-6eabfb8597f0"
      },
      "execution_count": 8,
      "outputs": [
        {
          "output_type": "stream",
          "name": "stdout",
          "text": [
            "(64, 64)\n",
            "Covariance Matrix \n",
            " [[ 0.          0.          0.         ...  0.          0.\n",
            "   0.        ]\n",
            " [ 0.          1.00055679  0.55692803 ... -0.02988686  0.02656195\n",
            "  -0.04391324]\n",
            " [ 0.          0.55692803  1.00055679 ... -0.04120565  0.07263924\n",
            "   0.08256908]\n",
            " ...\n",
            " [ 0.         -0.02988686 -0.04120565 ...  1.00055679  0.64868875\n",
            "   0.26213704]\n",
            " [ 0.          0.02656195  0.07263924 ...  0.64868875  1.00055679\n",
            "   0.62077355]\n",
            " [ 0.         -0.04391324  0.08256908 ...  0.26213704  0.62077355\n",
            "   1.00055679]]\n",
            "-0.57051363323811\n",
            "1.0005567928731212\n"
          ]
        }
      ]
    },
    {
      "cell_type": "code",
      "source": [
        "#Eigen values and eigen vectors\n",
        "eig_vals, eig_vecs = np.linalg.eig(cov_matrix)\n",
        "print(len(eig_vals))\n",
        "print(eig_vecs.shape)"
      ],
      "metadata": {
        "colab": {
          "base_uri": "https://localhost:8080/"
        },
        "id": "ukIxAa1SfS87",
        "outputId": "c9a01449-5f53-4a85-bb99-14910f31ef48"
      },
      "execution_count": 9,
      "outputs": [
        {
          "output_type": "stream",
          "name": "stdout",
          "text": [
            "64\n",
            "(64, 64)\n"
          ]
        }
      ]
    },
    {
      "cell_type": "code",
      "source": [
        "print('Eigen Vectors \\n:', eig_vecs)\n",
        "print('\\n Eigen Values \\n:', eig_vals)"
      ],
      "metadata": {
        "colab": {
          "base_uri": "https://localhost:8080/"
        },
        "id": "NTuLvEGQfTC6",
        "outputId": "5e3f03d0-54c3-42c0-b532-7285ca259b2f"
      },
      "execution_count": 10,
      "outputs": [
        {
          "output_type": "stream",
          "name": "stdout",
          "text": [
            "Eigen Vectors \n",
            ": [[ 0.          0.          0.         ...  1.          0.\n",
            "   0.        ]\n",
            " [ 0.18223392 -0.04702701  0.02358821 ...  0.          0.\n",
            "   0.        ]\n",
            " [ 0.285868   -0.0595648  -0.05679875 ...  0.          0.\n",
            "   0.        ]\n",
            " ...\n",
            " [ 0.103198    0.24261778 -0.02227952 ...  0.          0.\n",
            "   0.        ]\n",
            " [ 0.1198106   0.16508926  0.10036559 ...  0.          0.\n",
            "   0.        ]\n",
            " [ 0.07149362  0.07132924  0.09244589 ...  0.          0.\n",
            "   0.        ]]\n",
            "\n",
            " Eigen Values \n",
            ": [7.34477606 5.83549054 5.15396118 3.96623597 2.9663452  2.57204442\n",
            " 2.40600941 2.06867355 1.82993314 1.78951739 1.69784616 1.57287889\n",
            " 1.38870781 1.35933609 1.32152536 1.16829176 1.08368678 0.99977862\n",
            " 0.97438293 0.90891242 0.82271926 0.77631014 0.71155675 0.64552365\n",
            " 0.59527399 0.5765018  0.52673155 0.5106363  0.48686381 0.45560107\n",
            " 0.44285155 0.42230086 0.3991063  0.39110111 0.36094517 0.34860306\n",
            " 0.3195963  0.29406627 0.27692285 0.05037444 0.06328961 0.258273\n",
            " 0.24783029 0.2423566  0.07635394 0.08246812 0.09018543 0.09840876\n",
            " 0.10250434 0.11188655 0.11932898 0.12426371 0.13321081 0.14311427\n",
            " 0.217582   0.15818474 0.16875236 0.20799593 0.17612894 0.2000909\n",
            " 0.18983516 0.         0.         0.        ]\n"
          ]
        }
      ]
    },
    {
      "cell_type": "code",
      "source": [
        "eigen_pairs = [(np.abs(eig_vals[i]), eig_vecs[:,i]) for i in range(len(eig_vals))]\n",
        "\n",
        "# Sort the eigenvalue, eigenvector pair from high to low\n",
        "eigen_pairs_sorted = eigen_pairs.sort(key = lambda x: x[0], reverse= True)"
      ],
      "metadata": {
        "id": "i6_UZ5X3fmTA"
      },
      "execution_count": 11,
      "outputs": []
    },
    {
      "cell_type": "code",
      "source": [
        "# Cumulative Variance Explained:\n",
        "tot = sum(eig_vals)\n",
        "var_exp = [( i /tot ) * 100 for i in sorted(eig_vals, reverse=True)]\n",
        "cum_var_exp = np.cumsum(var_exp)\n",
        "print(\"Cumulative Variance Explained \\n:\", cum_var_exp)"
      ],
      "metadata": {
        "colab": {
          "base_uri": "https://localhost:8080/"
        },
        "id": "rHGJAkkDfmZu",
        "outputId": "fbd13cc2-621c-4018-a79c-e67844be0883"
      },
      "execution_count": 12,
      "outputs": [
        {
          "output_type": "stream",
          "name": "stdout",
          "text": [
            "Cumulative Variance Explained \n",
            ": [ 12.0339161   21.5949705   30.03938539  36.5377933   41.39794818\n",
            "  45.61206805  49.55415085  52.94353177  55.94175279  58.87375534\n",
            "  61.6555608   64.23261589  66.50791921  68.73509895  70.90032838\n",
            "  72.81449499  74.59004207  76.22811135  77.82457152  79.3137627\n",
            "  80.66173227  81.93366364  83.09950099  84.15714759  85.13246353\n",
            "  86.07702252  86.94003635  87.77667921  88.57437245  89.32084382\n",
            "  90.04642598  90.73833722  91.39224576  92.03303833  92.62442244\n",
            "  93.19558485  93.71922165  94.20102924  94.6547485   95.07791125\n",
            "  95.48396432  95.88104913  96.23754243  96.57832961  96.90616495\n",
            "  97.21719696  97.50577225  97.78226151  98.04143645  98.27591946\n",
            "  98.49417632  98.69777395  98.89328638  99.07660488  99.24455127\n",
            "  99.40578733  99.55355002  99.68866843  99.81376918  99.91746491\n",
            " 100.         100.         100.         100.        ]\n"
          ]
        }
      ]
    },
    {
      "cell_type": "code",
      "source": [
        "# Summary Plot of the cumulative Variance Explained:\n",
        "\n",
        "plt.figure(figsize=(6 , 4))\n",
        "plt.bar(range(64), var_exp, alpha = 0.5, align = 'center', label = 'Individual explained variance')\n",
        "plt.step(range(64), cum_var_exp, where='mid', label = 'Cumulative explained variance')\n",
        "plt.ylabel('Explained Variance Ratio')\n",
        "plt.xlabel('Principal Components')\n",
        "plt.legend(loc = 'best')\n",
        "plt.tight_layout()\n",
        "plt.show()"
      ],
      "metadata": {
        "colab": {
          "base_uri": "https://localhost:8080/",
          "height": 297
        },
        "id": "mcotWvMgfme9",
        "outputId": "0e0bcb3e-d4e7-486c-c8ed-350b3c267caf"
      },
      "execution_count": 13,
      "outputs": [
        {
          "output_type": "display_data",
          "data": {
            "text/plain": [
              "<Figure size 432x288 with 1 Axes>"
            ],
            "image/png": "[encoded data removed]"
          },
          "metadata": {
            "needs_background": "light"
          }
        }
      ]
    },
    {
      "cell_type": "markdown",
      "source": [
        "## Building Model using KMeans algorithm before Applying PCA"
      ],
      "metadata": {
        "id": "RqmqwLDof7r5"
      }
    },
    {
      "cell_type": "code",
      "source": [
        "cluster=[]\n",
        "for i in range(1,11):\n",
        "    kmeans = KMeans(n_clusters= i, init='k-means++', random_state=0)\n",
        "    kmeans.fit(X_std)\n",
        "    cluster.append(kmeans.inertia_)"
      ],
      "metadata": {
        "id": "end5lzfwf1u-"
      },
      "execution_count": 14,
      "outputs": []
    },
    {
      "cell_type": "code",
      "source": [
        "#Visualizing the ELBOW method to get the optimal value of K \n",
        "plt.plot(range(1,11), cluster,marker='o')\n",
        "plt.title('The Elbow Method')\n",
        "plt.xlabel('no of clusters')\n",
        "plt.ylabel('cluster')\n",
        "plt.grid()\n",
        "plt.show()"
      ],
      "metadata": {
        "colab": {
          "base_uri": "https://localhost:8080/",
          "height": 295
        },
        "id": "Qd3c-SFqgHwe",
        "outputId": "ecfd999a-b345-40c0-90e3-443caa566011"
      },
      "execution_count": 16,
      "outputs": [
        {
          "output_type": "display_data",
          "data": {
            "text/plain": [
              "<Figure size 432x288 with 1 Axes>"
            ],
            "image/png": "[encoded data removed]"
          },
          "metadata": {
            "needs_background": "light"
          }
        }
      ]
    },
    {
      "cell_type": "code",
      "source": [
        "kmeans = KMeans(n_clusters=10, random_state=0)\n",
        "clusters = kmeans.fit_predict(digits.data)\n",
        "kmeans.cluster_centers_.shape"
      ],
      "metadata": {
        "colab": {
          "base_uri": "https://localhost:8080/"
        },
        "id": "BCsPn5XigkfZ",
        "outputId": "85877bbb-49f3-4018-f3ba-60ffb42271b6"
      },
      "execution_count": 20,
      "outputs": [
        {
          "output_type": "execute_result",
          "data": {
            "text/plain": [
              "(10, 64)"
            ]
          },
          "metadata": {},
          "execution_count": 20
        }
      ]
    },
    {
      "cell_type": "code",
      "source": [
        "fig, ax = plt.subplots(2, 5, figsize=(8, 3))\n",
        "centers = kmeans.cluster_centers_.reshape(10, 8, 8)\n",
        "for axi, center in zip(ax.flat, centers):\n",
        "    axi.set(xticks=[], yticks=[])\n",
        "    axi.imshow(center, interpolation='nearest', cmap=plt.cm.binary)"
      ],
      "metadata": {
        "colab": {
          "base_uri": "https://localhost:8080/",
          "height": 197
        },
        "id": "uvDs3Wm_gkmX",
        "outputId": "5daf6b32-7fdb-407f-e6ac-3cddd457a659"
      },
      "execution_count": 21,
      "outputs": [
        {
          "output_type": "display_data",
          "data": {
            "text/plain": [
              "<Figure size 576x216 with 10 Axes>"
            ],
            "image/png": "[encoded data removed]"
          },
          "metadata": {}
        }
      ]
    },
    {
      "cell_type": "code",
      "source": [
        "from scipy.stats import mode\n",
        "\n",
        "labels = np.zeros_like(clusters)\n",
        "for i in range(10):\n",
        "    mask = (clusters == i)\n",
        "    labels[mask] = mode(digits.target[mask])[0]\n",
        "labels"
      ],
      "metadata": {
        "colab": {
          "base_uri": "https://localhost:8080/"
        },
        "id": "xvcdjXfmgkr4",
        "outputId": "d3af6560-658e-499a-a967-163cf7b27e23"
      },
      "execution_count": 22,
      "outputs": [
        {
          "output_type": "execute_result",
          "data": {
            "text/plain": [
              "array([0, 8, 8, ..., 8, 9, 9], dtype=int32)"
            ]
          },
          "metadata": {},
          "execution_count": 22
        }
      ]
    },
    {
      "cell_type": "code",
      "source": [
        "from sklearn.metrics import accuracy_score\n",
        "accuracy_score(digits.target, labels)"
      ],
      "metadata": {
        "colab": {
          "base_uri": "https://localhost:8080/"
        },
        "id": "r7YACbkig6mO",
        "outputId": "ac35d6af-813d-40f8-eabd-c2c31208d38b"
      },
      "execution_count": 23,
      "outputs": [
        {
          "output_type": "execute_result",
          "data": {
            "text/plain": [
              "0.7935447968836951"
            ]
          },
          "metadata": {},
          "execution_count": 23
        }
      ]
    },
    {
      "cell_type": "code",
      "source": [
        "from sklearn.metrics import confusion_matrix\n",
        "mat = confusion_matrix(digits.target, labels)\n",
        "sns.heatmap(mat.T, square=True, annot=True, fmt='d', cbar=False,\n",
        "            xticklabels=digits.target_names,\n",
        "            yticklabels=digits.target_names)\n",
        "plt.xlabel('true label')\n",
        "plt.ylabel('predicted label');"
      ],
      "metadata": {
        "colab": {
          "base_uri": "https://localhost:8080/",
          "height": 279
        },
        "id": "BKGiV12Qg6vw",
        "outputId": "522c3563-36b7-4d62-e50a-9f8ddfa11dfd"
      },
      "execution_count": 24,
      "outputs": [
        {
          "output_type": "display_data",
          "data": {
            "text/plain": [
              "<Figure size 432x288 with 1 Axes>"
            ],
            "image/png": "[encoded data removed]"
          },
          "metadata": {
            "needs_background": "light"
          }
        }
      ]
    },
    {
      "cell_type": "code",
      "source": [
        "# Classification Report:\n",
        "\n",
        "print('Classification Report:')\n",
        "classification1=classification_report(digits.target, labels)\n",
        "print(classification1)"
      ],
      "metadata": {
        "colab": {
          "base_uri": "https://localhost:8080/"
        },
        "id": "2kjsjs_ehbPC",
        "outputId": "0f23bba4-2240-40e7-d625-283976ae8811"
      },
      "execution_count": 25,
      "outputs": [
        {
          "output_type": "stream",
          "name": "stdout",
          "text": [
            "Classification Report:\n",
            "              precision    recall  f1-score   support\n",
            "\n",
            "           0       0.99      0.99      0.99       178\n",
            "           1       0.61      0.30      0.40       182\n",
            "           2       0.85      0.84      0.84       177\n",
            "           3       0.88      0.84      0.86       183\n",
            "           4       0.98      0.90      0.94       181\n",
            "           5       0.91      0.75      0.82       182\n",
            "           6       0.97      0.98      0.98       181\n",
            "           7       0.86      0.99      0.92       179\n",
            "           8       0.45      0.57      0.50       174\n",
            "           9       0.56      0.77      0.65       180\n",
            "\n",
            "    accuracy                           0.79      1797\n",
            "   macro avg       0.80      0.79      0.79      1797\n",
            "weighted avg       0.81      0.79      0.79      1797\n",
            "\n"
          ]
        }
      ]
    },
    {
      "cell_type": "markdown",
      "source": [
        "## Building Model using KMeans algorithm after Applying PCA"
      ],
      "metadata": {
        "id": "KzboE74OheEM"
      }
    },
    {
      "cell_type": "code",
      "source": [
        "# Applying PCA using sklearn:\n",
        "digits.data1 = PCA(n_components=64)\n",
        "X_std1=digits.data1.fit_transform(X_std)\n",
        "digits.data1"
      ],
      "metadata": {
        "colab": {
          "base_uri": "https://localhost:8080/"
        },
        "id": "34QkvGbphj8v",
        "outputId": "f423170e-8005-4d6f-b6da-253c9fc49c49"
      },
      "execution_count": 26,
      "outputs": [
        {
          "output_type": "execute_result",
          "data": {
            "text/plain": [
              "PCA(n_components=64)"
            ]
          },
          "metadata": {},
          "execution_count": 26
        }
      ]
    },
    {
      "cell_type": "code",
      "source": [
        "X_std1"
      ],
      "metadata": {
        "colab": {
          "base_uri": "https://localhost:8080/"
        },
        "id": "L0JB6HnYhwaW",
        "outputId": "955f0648-0068-4aaf-a4cc-ad41226da0eb"
      },
      "execution_count": 27,
      "outputs": [
        {
          "output_type": "execute_result",
          "data": {
            "text/plain": [
              "array([[ 1.91421366e+00, -9.54501571e-01, -3.94603482e+00, ...,\n",
              "        -0.00000000e+00,  0.00000000e+00,  8.24385469e-15],\n",
              "       [ 5.88980330e-01,  9.24635800e-01,  3.92475494e+00, ...,\n",
              "         7.08937780e-16,  1.99271523e-16,  3.08670512e-17],\n",
              "       [ 1.30203906e+00, -3.17188827e-01,  3.02333293e+00, ...,\n",
              "         3.28699317e-16,  1.25027993e-16,  2.15555254e-17],\n",
              "       ...,\n",
              "       [ 1.02259599e+00, -1.47910870e-01,  2.46997365e+00, ...,\n",
              "        -1.16384757e-16,  1.21081378e-17,  1.79387514e-17],\n",
              "       [ 1.07605522e+00, -3.80906254e-01, -2.45548693e+00, ...,\n",
              "        -1.52959072e-17,  2.02130078e-17, -2.28690666e-17],\n",
              "       [-1.25770233e+00, -2.22759088e+00,  2.83627891e-01, ...,\n",
              "        -3.62744615e-17, -2.28083881e-17,  5.00149356e-17]])"
            ]
          },
          "metadata": {},
          "execution_count": 27
        }
      ]
    },
    {
      "cell_type": "code",
      "source": [
        "kmeans1 = KMeans(n_clusters=10, random_state=0)\n",
        "clusters1 = kmeans1.fit_predict(X_std1)\n",
        "kmeans1.cluster_centers_.shape"
      ],
      "metadata": {
        "colab": {
          "base_uri": "https://localhost:8080/"
        },
        "id": "94W479_EhzLi",
        "outputId": "ac1def4f-1a2b-406e-c9be-a8fdfac28701"
      },
      "execution_count": 28,
      "outputs": [
        {
          "output_type": "execute_result",
          "data": {
            "text/plain": [
              "(10, 64)"
            ]
          },
          "metadata": {},
          "execution_count": 28
        }
      ]
    },
    {
      "cell_type": "code",
      "source": [
        "from scipy.stats import mode\n",
        "\n",
        "labels1 = np.zeros_like(clusters1)\n",
        "for i in range(10):\n",
        "    mask = (clusters1 == i)\n",
        "    labels1[mask] = mode(digits.target[mask])[0]\n",
        "labels1"
      ],
      "metadata": {
        "colab": {
          "base_uri": "https://localhost:8080/"
        },
        "id": "Vkj41R3ohzTY",
        "outputId": "a2d75282-cd2a-48a8-a193-01cc56ac5239"
      },
      "execution_count": 29,
      "outputs": [
        {
          "output_type": "execute_result",
          "data": {
            "text/plain": [
              "array([0, 8, 8, ..., 8, 3, 3], dtype=int32)"
            ]
          },
          "metadata": {},
          "execution_count": 29
        }
      ]
    },
    {
      "cell_type": "code",
      "source": [
        "from sklearn.metrics import accuracy_score\n",
        "accuracy_score(digits.target, labels1)"
      ],
      "metadata": {
        "colab": {
          "base_uri": "https://localhost:8080/"
        },
        "id": "5yiGzDAWhzYk",
        "outputId": "1407e643-0f29-4215-dbad-47a2f9d4ffc2"
      },
      "execution_count": 30,
      "outputs": [
        {
          "output_type": "execute_result",
          "data": {
            "text/plain": [
              "0.6199220923761826"
            ]
          },
          "metadata": {},
          "execution_count": 30
        }
      ]
    },
    {
      "cell_type": "code",
      "source": [
        "fig, ax = plt.subplots(2, 5, figsize=(10, 3))\n",
        "centers1 = kmeans1.cluster_centers_.reshape(10, 8, 8)\n",
        "for axi, center in zip(ax.flat, centers1):\n",
        "    axi.set(xticks=[], yticks=[])\n",
        "    axi.imshow(center, interpolation='nearest', cmap=plt.cm.binary)"
      ],
      "metadata": {
        "colab": {
          "base_uri": "https://localhost:8080/",
          "height": 197
        },
        "id": "qA0tydUriGxw",
        "outputId": "c06ff09d-e538-448e-b34b-536caee78f3a"
      },
      "execution_count": 31,
      "outputs": [
        {
          "output_type": "display_data",
          "data": {
            "text/plain": [
              "<Figure size 720x216 with 10 Axes>"
            ],
            "image/png": "[encoded data removed]"
          },
          "metadata": {}
        }
      ]
    },
    {
      "cell_type": "code",
      "source": [
        "from sklearn.metrics import confusion_matrix\n",
        "mat1 = confusion_matrix(digits.target, labels1)\n",
        "sns.heatmap(mat1.T, square=True, annot=True, fmt='d', cbar=False,\n",
        "            xticklabels=digits.target_names,\n",
        "            yticklabels=digits.target_names)\n",
        "plt.xlabel('true label1')\n",
        "plt.ylabel('predicted label1');"
      ],
      "metadata": {
        "colab": {
          "base_uri": "https://localhost:8080/",
          "height": 279
        },
        "id": "eEq3jl1UiG5q",
        "outputId": "d6b90ac8-2b32-4afa-bc9e-970f45c3407e"
      },
      "execution_count": 32,
      "outputs": [
        {
          "output_type": "display_data",
          "data": {
            "text/plain": [
              "<Figure size 432x288 with 1 Axes>"
            ],
            "image/png": "[encoded data removed]"
          },
          "metadata": {
            "needs_background": "light"
          }
        }
      ]
    },
    {
      "cell_type": "code",
      "source": [
        "# Classification Report2:\n",
        "\n",
        "print('Classification Report:')\n",
        "classification2=classification_report(digits.target, labels1)\n",
        "print(classification2)"
      ],
      "metadata": {
        "colab": {
          "base_uri": "https://localhost:8080/"
        },
        "id": "5ruyQbBViUJA",
        "outputId": "4793be93-c530-48a1-d583-567e411998b3"
      },
      "execution_count": 33,
      "outputs": [
        {
          "output_type": "stream",
          "name": "stdout",
          "text": [
            "Classification Report:\n",
            "              precision    recall  f1-score   support\n",
            "\n",
            "           0       0.99      0.99      0.99       178\n",
            "           1       0.52      0.32      0.40       182\n",
            "           2       0.56      0.72      0.63       177\n",
            "           3       0.36      0.83      0.50       183\n",
            "           4       0.98      0.87      0.92       181\n",
            "           5       0.00      0.00      0.00       182\n",
            "           6       0.97      0.97      0.97       181\n",
            "           7       0.82      0.94      0.88       179\n",
            "           8       0.32      0.57      0.41       174\n",
            "           9       0.00      0.00      0.00       180\n",
            "\n",
            "    accuracy                           0.62      1797\n",
            "   macro avg       0.55      0.62      0.57      1797\n",
            "weighted avg       0.55      0.62      0.57      1797\n",
            "\n"
          ]
        }
      ]
    }
  ]
}