{
 "cells": [
  {
   "cell_type": "markdown",
   "id": "b1e39d9f",
   "metadata": {},
   "source": [
    "# Module 1: Introduction to Python Assignment - 1\n",
    "Problem Statement: Consider yourself to be Sam who is a data scientist. He has been invited as a guest lecturer at a college to take an introductory session on Python."
   ]
  },
  {
   "cell_type": "markdown",
   "id": "b5a57689",
   "metadata": {},
   "source": [
    "# 1. Create a list containing squares of numbers from 1 to 10 (HINT: use List Comprehension)."
   ]
  },
  {
   "cell_type": "code",
   "execution_count": 2,
   "id": "fb355892",
   "metadata": {},
   "outputs": [
    {
     "data": {
      "text/plain": [
       "[1, 4, 9, 16, 25, 36, 49, 64, 81, 100]"
      ]
     },
     "execution_count": 2,
     "metadata": {},
     "output_type": "execute_result"
    }
   ],
   "source": [
    "l = [1, 2, 3, 4, 5,6,7,8,9,10]\n",
    "[i**2 for i in l]"
   ]
  },
  {
   "cell_type": "markdown",
   "id": "f49508c3",
   "metadata": {},
   "source": [
    "# 2. Write a Function to check if year number is a leap year."
   ]
  },
  {
   "cell_type": "code",
   "execution_count": 4,
   "id": "c36153f3",
   "metadata": {},
   "outputs": [
    {
     "name": "stdout",
     "output_type": "stream",
     "text": [
      "Enter the number: 2020\n",
      "Given Year is a leap Year\n"
     ]
    }
   ],
   "source": [
    "def CheckLeap(Year):  \n",
    "  # Checking if the given year is leap year  \n",
    "  if((Year % 400 == 0) or  \n",
    "     (Year % 100 != 0) and  \n",
    "     (Year % 4 == 0)):   \n",
    "    print(\"Given Year is a leap Year\");  \n",
    "  # Else it is not a leap year  \n",
    "  else:  \n",
    "    print (\"Given Year is not a leap Year\")  \n",
    "# Taking an input year from user  \n",
    "Year = int(input(\"Enter the number: \"))  \n",
    "# Printing result  \n",
    "CheckLeap(Year)  "
   ]
  },
  {
   "cell_type": "markdown",
   "id": "a5d420d0",
   "metadata": {},
   "source": [
    "# 3. Write a Function to take an array and return another array that contains the members of first array that are even."
   ]
  },
  {
   "cell_type": "code",
   "execution_count": 5,
   "id": "392ece85",
   "metadata": {},
   "outputs": [
    {
     "name": "stdout",
     "output_type": "stream",
     "text": [
      "Enter length of list:2\n",
      "Enter value:3\n",
      "Enter value:4\n",
      "Even Number List is: [4]\n"
     ]
    }
   ],
   "source": [
    "def findEvenNo(lst): \n",
    "    ans = [] \n",
    "    for i in lst: \n",
    "        if(i%2 == 0): \n",
    "            ans.append(i) \n",
    "    return ans \n",
    "             \n",
    "if __name__ == \"__main__\": \n",
    "    \n",
    "    lst = [] \n",
    "    n = int(input(\"Enter length of list:\")) \n",
    "    i = 0 \n",
    "    while(i < n): \n",
    "        try: \n",
    "            lst.append(int(input(\"Enter value:\"))) \n",
    "            i+=1 \n",
    "        except Exception as ex: \n",
    "            print(\"Error:\",ex) \n",
    "    print(\"Even Number List is:\",findEvenNo(lst)) "
   ]
  },
  {
   "cell_type": "markdown",
   "id": "a4f2ad80",
   "metadata": {},
   "source": [
    "# 4. Write a Function that takes 2 arrays and prints the members of first array that are present of second array. (HINT: use Membership Comprehension)"
   ]
  },
  {
   "cell_type": "code",
   "execution_count": 6,
   "id": "4a203d42",
   "metadata": {},
   "outputs": [
    {
     "name": "stdout",
     "output_type": "stream",
     "text": [
      "2\n",
      "4\n",
      "7\n"
     ]
    }
   ],
   "source": [
    "def member(arr1,arr2):\n",
    "    for i in arr1:\n",
    "        if i in arr2:\n",
    "            print(i)\n",
    "\n",
    "member([1,2,3,4,7,6],[4,0,8,2,7,8])"
   ]
  },
  {
   "cell_type": "markdown",
   "id": "4b7d93ac",
   "metadata": {},
   "source": [
    "# Module 1 - Introduction to Python Assignment - 2"
   ]
  },
  {
   "cell_type": "markdown",
   "id": "48c71993",
   "metadata": {},
   "source": [
    "# Problem Statement:\n",
    "Consider yourself to be Sam who is a data scientist. He has been invited as a guest lecturer at a college\n",
    "to take an introductory session on Python."
   ]
  },
  {
   "cell_type": "markdown",
   "id": "940ea18b",
   "metadata": {},
   "source": [
    "1. Create 1st tuple with values -> (10,20,30), 2nd tuple with values -> (40,50,60).\n",
    "a. Concatenate the two tuples and store it in “t_combine”\n",
    "b. Repeat the elements of “t_combine” 3 times\n",
    "c. Access the 3rd element from “t_combine”\n",
    "d. Access the first three elements from “t_combine”\n",
    "e. Access the last three elements from “t_combine”"
   ]
  },
  {
   "cell_type": "code",
   "execution_count": 11,
   "id": "87710c6c",
   "metadata": {},
   "outputs": [],
   "source": [
    "t1 = (10,20,30)\n",
    "t2 = (40,50,60)"
   ]
  },
  {
   "cell_type": "code",
   "execution_count": 12,
   "id": "807557ba",
   "metadata": {},
   "outputs": [],
   "source": [
    "t_combine = t1 + t2"
   ]
  },
  {
   "cell_type": "code",
   "execution_count": 20,
   "id": "d54945b8",
   "metadata": {},
   "outputs": [
    {
     "data": {
      "text/plain": [
       "(10, 20, 30, 40, 50, 60)"
      ]
     },
     "execution_count": 20,
     "metadata": {},
     "output_type": "execute_result"
    }
   ],
   "source": [
    "t_combine"
   ]
  },
  {
   "cell_type": "code",
   "execution_count": null,
   "id": "a0a8cc80",
   "metadata": {},
   "outputs": [],
   "source": []
  },
  {
   "cell_type": "code",
   "execution_count": 15,
   "id": "773681dd",
   "metadata": {},
   "outputs": [
    {
     "data": {
      "text/plain": [
       "(10, 20, 30, 40, 50, 60, 10, 20, 30, 40, 50, 60, 10, 20, 30, 40, 50, 60)"
      ]
     },
     "execution_count": 15,
     "metadata": {},
     "output_type": "execute_result"
    }
   ],
   "source": [
    "t_combine * 3"
   ]
  },
  {
   "cell_type": "code",
   "execution_count": 22,
   "id": "90c0dde6",
   "metadata": {},
   "outputs": [
    {
     "name": "stdout",
     "output_type": "stream",
     "text": [
      "30\n"
     ]
    }
   ],
   "source": [
    "print(t_combine[2])"
   ]
  },
  {
   "cell_type": "code",
   "execution_count": 24,
   "id": "d326b1f3",
   "metadata": {},
   "outputs": [
    {
     "name": "stdout",
     "output_type": "stream",
     "text": [
      "(10, 20, 30)\n"
     ]
    }
   ],
   "source": [
    "print(t_combine[:3])"
   ]
  },
  {
   "cell_type": "code",
   "execution_count": 25,
   "id": "a147d188",
   "metadata": {},
   "outputs": [
    {
     "name": "stdout",
     "output_type": "stream",
     "text": [
      "(40, 50, 60)\n"
     ]
    }
   ],
   "source": [
    "print(t_combine[3:])"
   ]
  },
  {
   "cell_type": "markdown",
   "id": "97e71931",
   "metadata": {},
   "source": [
    "2. Create a list ‘my_list’ with these elements:\n",
    "a. First element is a tuple with values 1,2,3\n",
    "b. Second element is a tuple with values “a”,”b”,”c”\n",
    "c. Third element is a tuple with values True,False"
   ]
  },
  {
   "cell_type": "code",
   "execution_count": 30,
   "id": "5ba7cb8a",
   "metadata": {},
   "outputs": [],
   "source": [
    "my_list = [(1,2,3),(\"a\",\"b\",\"c\"),(True,False)]"
   ]
  },
  {
   "cell_type": "code",
   "execution_count": 31,
   "id": "4f297a30",
   "metadata": {},
   "outputs": [
    {
     "data": {
      "text/plain": [
       "[(1, 2, 3), ('a', 'b', 'c'), (True, False)]"
      ]
     },
     "execution_count": 31,
     "metadata": {},
     "output_type": "execute_result"
    }
   ],
   "source": [
    "my_list"
   ]
  },
  {
   "cell_type": "markdown",
   "id": "7e47b59e",
   "metadata": {},
   "source": [
    "3. Append a new tuple – (1,’a’,True) to ‘my_list’\n",
    "a. Append a new list – [“sparta”,123]+ to my_list"
   ]
  },
  {
   "cell_type": "code",
   "execution_count": 36,
   "id": "b16a6a38",
   "metadata": {},
   "outputs": [],
   "source": [
    "new_tuple = (1,'a',True) "
   ]
  },
  {
   "cell_type": "code",
   "execution_count": 38,
   "id": "bb43b0d3",
   "metadata": {},
   "outputs": [],
   "source": [
    "my_list += new_tuple"
   ]
  },
  {
   "cell_type": "code",
   "execution_count": 39,
   "id": "326b94fc",
   "metadata": {},
   "outputs": [
    {
     "data": {
      "text/plain": [
       "[(1, 2, 3), ('a', 'b', 'c'), (True, False), 1, 'a', True]"
      ]
     },
     "execution_count": 39,
     "metadata": {},
     "output_type": "execute_result"
    }
   ],
   "source": [
    "my_list"
   ]
  },
  {
   "cell_type": "code",
   "execution_count": 41,
   "id": "66752428",
   "metadata": {},
   "outputs": [],
   "source": [
    "new_list = [\"sparta\",123]"
   ]
  },
  {
   "cell_type": "code",
   "execution_count": 44,
   "id": "5c7dd689",
   "metadata": {},
   "outputs": [],
   "source": [
    " my_list = my_list + new_list"
   ]
  },
  {
   "cell_type": "code",
   "execution_count": 45,
   "id": "47abe49b",
   "metadata": {},
   "outputs": [
    {
     "data": {
      "text/plain": [
       "[(1, 2, 3), ('a', 'b', 'c'), (True, False), 1, 'a', True, 'sparta', 123]"
      ]
     },
     "execution_count": 45,
     "metadata": {},
     "output_type": "execute_result"
    }
   ],
   "source": [
    "my_list"
   ]
  },
  {
   "cell_type": "markdown",
   "id": "8bc99651",
   "metadata": {},
   "source": [
    "4. Create a dictionary ‘fruit’ where:\n",
    "a. The first key is ‘Fruit’ and the values are (“Apple”,”Banana”,”Mango”,”Guava”)\n",
    "b. The second key is ‘Cost’ and the values are (85,54,120,70)\n",
    "c. Extract all the keys from ‘fruit’\n",
    "d. Extract all the values from ‘fruit’"
   ]
  },
  {
   "cell_type": "code",
   "execution_count": 51,
   "id": "5c75f0d9",
   "metadata": {},
   "outputs": [],
   "source": [
    "fruit = {\"Fruit\" : {\"Apple\",\"Banana\",\"Mango\",\"Guava\"},\"Cost\":{(85,54,120,70)}}"
   ]
  },
  {
   "cell_type": "code",
   "execution_count": 52,
   "id": "5ff0979a",
   "metadata": {},
   "outputs": [
    {
     "data": {
      "text/plain": [
       "{'Fruit': {'Apple', 'Banana', 'Guava', 'Mango'}, 'Cost': {(85, 54, 120, 70)}}"
      ]
     },
     "execution_count": 52,
     "metadata": {},
     "output_type": "execute_result"
    }
   ],
   "source": [
    "fruit"
   ]
  },
  {
   "cell_type": "code",
   "execution_count": 60,
   "id": "572b4ff9",
   "metadata": {},
   "outputs": [
    {
     "name": "stdout",
     "output_type": "stream",
     "text": [
      "{'Apple', 'Guava', 'Banana', 'Mango'}\n"
     ]
    }
   ],
   "source": [
    "print(fruit[\"Fruit\"])"
   ]
  },
  {
   "cell_type": "code",
   "execution_count": 61,
   "id": "058834ae",
   "metadata": {},
   "outputs": [
    {
     "name": "stdout",
     "output_type": "stream",
     "text": [
      "{(85, 54, 120, 70)}\n"
     ]
    }
   ],
   "source": [
    "print(fruit[\"Cost\"])"
   ]
  },
  {
   "cell_type": "code",
   "execution_count": 69,
   "id": "32ac33dd",
   "metadata": {},
   "outputs": [
    {
     "name": "stdout",
     "output_type": "stream",
     "text": [
      "dict_keys(['Fruit', 'Cost'])\n"
     ]
    }
   ],
   "source": [
    "print(fruit.keys())"
   ]
  },
  {
   "cell_type": "code",
   "execution_count": 70,
   "id": "db7f0f47",
   "metadata": {},
   "outputs": [
    {
     "name": "stdout",
     "output_type": "stream",
     "text": [
      "dict_values([{'Apple', 'Guava', 'Banana', 'Mango'}, {(85, 54, 120, 70)}])\n"
     ]
    }
   ],
   "source": [
    "print(fruit.values())"
   ]
  },
  {
   "cell_type": "markdown",
   "id": "54e6ff23",
   "metadata": {},
   "source": [
    "5. Crete a set named ‘my_set’ with values (1,1,”a”,”a”,True,True) and print the result"
   ]
  },
  {
   "cell_type": "code",
   "execution_count": 75,
   "id": "7db54bb5",
   "metadata": {},
   "outputs": [],
   "source": [
    "my_set = {1,1,\"a\",\"a\",\"True\",\"True\"}"
   ]
  },
  {
   "cell_type": "code",
   "execution_count": 76,
   "id": "e6e9c5d9",
   "metadata": {},
   "outputs": [
    {
     "data": {
      "text/plain": [
       "{1, 'True', 'a'}"
      ]
     },
     "execution_count": 76,
     "metadata": {},
     "output_type": "execute_result"
    }
   ],
   "source": [
    "my_set"
   ]
  },
  {
   "cell_type": "markdown",
   "id": "ee31356d",
   "metadata": {},
   "source": [
    "# Conditional Statements Assignment"
   ]
  },
  {
   "cell_type": "markdown",
   "id": "debdae98",
   "metadata": {},
   "source": [
    "# 1. Take three user inputs and print the greatest number from those inputs using if-else condition. Edge cases if any, should also be handled."
   ]
  },
  {
   "cell_type": "code",
   "execution_count": 77,
   "id": "370dcbd2",
   "metadata": {},
   "outputs": [
    {
     "name": "stdout",
     "output_type": "stream",
     "text": [
      "Enter first number: 12\n",
      "Enter second number: 10\n",
      "Enter third number: 13\n",
      "The largest number is 13.0\n"
     ]
    }
   ],
   "source": [
    "\n",
    "num1 = float(input(\"Enter first number: \"))\n",
    "num2 = float(input(\"Enter second number: \"))\n",
    "num3 = float(input(\"Enter third number: \"))\n",
    "\n",
    "if (num1 >= num2) and (num1 >= num3):\n",
    "   largest = num1\n",
    "elif (num2 >= num1) and (num2 >= num3):\n",
    "   largest = num2\n",
    "else:\n",
    "   largest = num3\n",
    "\n",
    "print(\"The largest number is\", largest)"
   ]
  },
  {
   "cell_type": "markdown",
   "id": "53ad4158",
   "metadata": {},
   "source": [
    "# If-Else Assignment"
   ]
  },
  {
   "cell_type": "markdown",
   "id": "0a747ffd",
   "metadata": {},
   "source": [
    "# 1. Input the values of a and b as 10 and 20 respectively. Now check if a is greater or b is greater using if condition. Think about all the edge cases, and print the statements accordingly."
   ]
  },
  {
   "cell_type": "code",
   "execution_count": 78,
   "id": "4521d5ae",
   "metadata": {},
   "outputs": [
    {
     "name": "stdout",
     "output_type": "stream",
     "text": [
      "The largest is  20\n"
     ]
    }
   ],
   "source": [
    "num1 = 10\n",
    "num2 = 20\n",
    "if (num1 >= num2):\n",
    "    largest = num1\n",
    "else:\n",
    "    largest = num2\n",
    "print(\"The largest is \", largest)\n",
    "        "
   ]
  },
  {
   "cell_type": "code",
   "execution_count": null,
   "id": "2745ef3b",
   "metadata": {},
   "outputs": [],
   "source": []
  }
 ],
 "metadata": {
  "kernelspec": {
   "display_name": "Python 3 (ipykernel)",
   "language": "python",
   "name": "python3"
  },
  "language_info": {
   "codemirror_mode": {
    "name": "ipython",
    "version": 3
   },
   "file_extension": ".py",
   "mimetype": "text/x-python",
   "name": "python",
   "nbconvert_exporter": "python",
   "pygments_lexer": "ipython3",
   "version": "3.9.12"
  }
 },
 "nbformat": 4,
 "nbformat_minor": 5
}
