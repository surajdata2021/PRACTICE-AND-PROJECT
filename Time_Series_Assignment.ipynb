{
 "cells": [
  {
   "cell_type": "code",
   "execution_count": 1,
   "id": "c6ee81d4",
   "metadata": {},
   "outputs": [],
   "source": [
    "import pandas as pd"
   ]
  },
  {
   "cell_type": "code",
   "execution_count": 4,
   "id": "f66e12d6",
   "metadata": {},
   "outputs": [
    {
     "data": {
      "text/html": [
       "<div>\n",
       "<style scoped>\n",
       "    .dataframe tbody tr th:only-of-type {\n",
       "        vertical-align: middle;\n",
       "    }\n",
       "\n",
       "    .dataframe tbody tr th {\n",
       "        vertical-align: top;\n",
       "    }\n",
       "\n",
       "    .dataframe thead th {\n",
       "        text-align: right;\n",
       "    }\n",
       "</style>\n",
       "<table border=\"1\" class=\"dataframe\">\n",
       "  <thead>\n",
       "    <tr style=\"text-align: right;\">\n",
       "      <th></th>\n",
       "      <th>DATE</th>\n",
       "      <th>MinTemp</th>\n",
       "      <th>MaxTemp</th>\n",
       "      <th>AvgTemp</th>\n",
       "      <th>Sunrise</th>\n",
       "      <th>Sunset</th>\n",
       "    </tr>\n",
       "  </thead>\n",
       "  <tbody>\n",
       "    <tr>\n",
       "      <th>0</th>\n",
       "      <td>1/1/2014</td>\n",
       "      <td>33.0</td>\n",
       "      <td>46.0</td>\n",
       "      <td>40.0</td>\n",
       "      <td>657</td>\n",
       "      <td>1756</td>\n",
       "    </tr>\n",
       "    <tr>\n",
       "      <th>1</th>\n",
       "      <td>1/2/2014</td>\n",
       "      <td>35.0</td>\n",
       "      <td>50.0</td>\n",
       "      <td>43.0</td>\n",
       "      <td>657</td>\n",
       "      <td>1756</td>\n",
       "    </tr>\n",
       "    <tr>\n",
       "      <th>2</th>\n",
       "      <td>1/3/2014</td>\n",
       "      <td>36.0</td>\n",
       "      <td>45.0</td>\n",
       "      <td>41.0</td>\n",
       "      <td>657</td>\n",
       "      <td>1757</td>\n",
       "    </tr>\n",
       "    <tr>\n",
       "      <th>3</th>\n",
       "      <td>1/4/2014</td>\n",
       "      <td>32.0</td>\n",
       "      <td>41.0</td>\n",
       "      <td>37.0</td>\n",
       "      <td>658</td>\n",
       "      <td>1757</td>\n",
       "    </tr>\n",
       "    <tr>\n",
       "      <th>4</th>\n",
       "      <td>1/5/2014</td>\n",
       "      <td>24.0</td>\n",
       "      <td>38.0</td>\n",
       "      <td>31.0</td>\n",
       "      <td>658</td>\n",
       "      <td>1758</td>\n",
       "    </tr>\n",
       "    <tr>\n",
       "      <th>...</th>\n",
       "      <td>...</td>\n",
       "      <td>...</td>\n",
       "      <td>...</td>\n",
       "      <td>...</td>\n",
       "      <td>...</td>\n",
       "      <td>...</td>\n",
       "    </tr>\n",
       "    <tr>\n",
       "      <th>1820</th>\n",
       "      <td>12/26/2018</td>\n",
       "      <td>35.0</td>\n",
       "      <td>45.0</td>\n",
       "      <td>40.0</td>\n",
       "      <td>654</td>\n",
       "      <td>1752</td>\n",
       "    </tr>\n",
       "    <tr>\n",
       "      <th>1821</th>\n",
       "      <td>12/27/2018</td>\n",
       "      <td>33.0</td>\n",
       "      <td>44.0</td>\n",
       "      <td>39.0</td>\n",
       "      <td>655</td>\n",
       "      <td>1752</td>\n",
       "    </tr>\n",
       "    <tr>\n",
       "      <th>1822</th>\n",
       "      <td>12/28/2018</td>\n",
       "      <td>33.0</td>\n",
       "      <td>47.0</td>\n",
       "      <td>40.0</td>\n",
       "      <td>655</td>\n",
       "      <td>1753</td>\n",
       "    </tr>\n",
       "    <tr>\n",
       "      <th>1823</th>\n",
       "      <td>12/29/2018</td>\n",
       "      <td>36.0</td>\n",
       "      <td>47.0</td>\n",
       "      <td>42.0</td>\n",
       "      <td>655</td>\n",
       "      <td>1753</td>\n",
       "    </tr>\n",
       "    <tr>\n",
       "      <th>1824</th>\n",
       "      <td>12/30/2018</td>\n",
       "      <td>39.0</td>\n",
       "      <td>52.0</td>\n",
       "      <td>46.0</td>\n",
       "      <td>656</td>\n",
       "      <td>1754</td>\n",
       "    </tr>\n",
       "  </tbody>\n",
       "</table>\n",
       "<p>1825 rows × 6 columns</p>\n",
       "</div>"
      ],
      "text/plain": [
       "            DATE  MinTemp  MaxTemp  AvgTemp  Sunrise  Sunset\n",
       "0       1/1/2014     33.0     46.0     40.0      657    1756\n",
       "1       1/2/2014     35.0     50.0     43.0      657    1756\n",
       "2       1/3/2014     36.0     45.0     41.0      657    1757\n",
       "3       1/4/2014     32.0     41.0     37.0      658    1757\n",
       "4       1/5/2014     24.0     38.0     31.0      658    1758\n",
       "...          ...      ...      ...      ...      ...     ...\n",
       "1820  12/26/2018     35.0     45.0     40.0      654    1752\n",
       "1821  12/27/2018     33.0     44.0     39.0      655    1752\n",
       "1822  12/28/2018     33.0     47.0     40.0      655    1753\n",
       "1823  12/29/2018     36.0     47.0     42.0      655    1753\n",
       "1824  12/30/2018     39.0     52.0     46.0      656    1754\n",
       "\n",
       "[1825 rows x 6 columns]"
      ]
     },
     "execution_count": 4,
     "metadata": {},
     "output_type": "execute_result"
    }
   ],
   "source": [
    "data = pd.read_csv('MaunaLoaDailyTemps.csv')\n",
    "df"
   ]
  },
  {
   "cell_type": "code",
   "execution_count": 8,
   "id": "0284b8fe",
   "metadata": {},
   "outputs": [
    {
     "data": {
      "text/html": [
       "<div>\n",
       "<style scoped>\n",
       "    .dataframe tbody tr th:only-of-type {\n",
       "        vertical-align: middle;\n",
       "    }\n",
       "\n",
       "    .dataframe tbody tr th {\n",
       "        vertical-align: top;\n",
       "    }\n",
       "\n",
       "    .dataframe thead th {\n",
       "        text-align: right;\n",
       "    }\n",
       "</style>\n",
       "<table border=\"1\" class=\"dataframe\">\n",
       "  <thead>\n",
       "    <tr style=\"text-align: right;\">\n",
       "      <th></th>\n",
       "      <th>DATE</th>\n",
       "      <th>MinTemp</th>\n",
       "      <th>MaxTemp</th>\n",
       "      <th>AvgTemp</th>\n",
       "      <th>Sunrise</th>\n",
       "      <th>Sunset</th>\n",
       "    </tr>\n",
       "  </thead>\n",
       "  <tbody>\n",
       "    <tr>\n",
       "      <th>24</th>\n",
       "      <td>1/25/2014</td>\n",
       "      <td>41.0</td>\n",
       "      <td>62.0</td>\n",
       "      <td>52.0</td>\n",
       "      <td>659</td>\n",
       "      <td>1811</td>\n",
       "    </tr>\n",
       "    <tr>\n",
       "      <th>107</th>\n",
       "      <td>4/18/2014</td>\n",
       "      <td>43.0</td>\n",
       "      <td>60.0</td>\n",
       "      <td>52.0</td>\n",
       "      <td>602</td>\n",
       "      <td>1841</td>\n",
       "    </tr>\n",
       "    <tr>\n",
       "      <th>108</th>\n",
       "      <td>4/19/2014</td>\n",
       "      <td>43.0</td>\n",
       "      <td>60.0</td>\n",
       "      <td>52.0</td>\n",
       "      <td>602</td>\n",
       "      <td>1841</td>\n",
       "    </tr>\n",
       "    <tr>\n",
       "      <th>114</th>\n",
       "      <td>4/25/2014</td>\n",
       "      <td>43.0</td>\n",
       "      <td>59.0</td>\n",
       "      <td>51.0</td>\n",
       "      <td>558</td>\n",
       "      <td>1843</td>\n",
       "    </tr>\n",
       "    <tr>\n",
       "      <th>115</th>\n",
       "      <td>4/26/2014</td>\n",
       "      <td>45.0</td>\n",
       "      <td>62.0</td>\n",
       "      <td>54.0</td>\n",
       "      <td>557</td>\n",
       "      <td>1844</td>\n",
       "    </tr>\n",
       "    <tr>\n",
       "      <th>...</th>\n",
       "      <td>...</td>\n",
       "      <td>...</td>\n",
       "      <td>...</td>\n",
       "      <td>...</td>\n",
       "      <td>...</td>\n",
       "      <td>...</td>\n",
       "    </tr>\n",
       "    <tr>\n",
       "      <th>1732</th>\n",
       "      <td>9/29/2018</td>\n",
       "      <td>43.0</td>\n",
       "      <td>61.0</td>\n",
       "      <td>52.0</td>\n",
       "      <td>613</td>\n",
       "      <td>1812</td>\n",
       "    </tr>\n",
       "    <tr>\n",
       "      <th>1733</th>\n",
       "      <td>9/30/2018</td>\n",
       "      <td>43.0</td>\n",
       "      <td>62.0</td>\n",
       "      <td>53.0</td>\n",
       "      <td>613</td>\n",
       "      <td>1811</td>\n",
       "    </tr>\n",
       "    <tr>\n",
       "      <th>1734</th>\n",
       "      <td>10/1/2018</td>\n",
       "      <td>40.0</td>\n",
       "      <td>63.0</td>\n",
       "      <td>52.0</td>\n",
       "      <td>613</td>\n",
       "      <td>1811</td>\n",
       "    </tr>\n",
       "    <tr>\n",
       "      <th>1737</th>\n",
       "      <td>10/4/2018</td>\n",
       "      <td>43.0</td>\n",
       "      <td>58.0</td>\n",
       "      <td>51.0</td>\n",
       "      <td>614</td>\n",
       "      <td>1808</td>\n",
       "    </tr>\n",
       "    <tr>\n",
       "      <th>1811</th>\n",
       "      <td>12/17/2018</td>\n",
       "      <td>42.0</td>\n",
       "      <td>60.0</td>\n",
       "      <td>51.0</td>\n",
       "      <td>650</td>\n",
       "      <td>1747</td>\n",
       "    </tr>\n",
       "  </tbody>\n",
       "</table>\n",
       "<p>331 rows × 6 columns</p>\n",
       "</div>"
      ],
      "text/plain": [
       "            DATE  MinTemp  MaxTemp  AvgTemp  Sunrise  Sunset\n",
       "24     1/25/2014     41.0     62.0     52.0      659    1811\n",
       "107    4/18/2014     43.0     60.0     52.0      602    1841\n",
       "108    4/19/2014     43.0     60.0     52.0      602    1841\n",
       "114    4/25/2014     43.0     59.0     51.0      558    1843\n",
       "115    4/26/2014     45.0     62.0     54.0      557    1844\n",
       "...          ...      ...      ...      ...      ...     ...\n",
       "1732   9/29/2018     43.0     61.0     52.0      613    1812\n",
       "1733   9/30/2018     43.0     62.0     53.0      613    1811\n",
       "1734   10/1/2018     40.0     63.0     52.0      613    1811\n",
       "1737   10/4/2018     43.0     58.0     51.0      614    1808\n",
       "1811  12/17/2018     42.0     60.0     51.0      650    1747\n",
       "\n",
       "[331 rows x 6 columns]"
      ]
     },
     "execution_count": 8,
     "metadata": {},
     "output_type": "execute_result"
    }
   ],
   "source": [
    "# Answer to Q1 : 331\n",
    "data.loc[(data['AvgTemp'] > 50)]"
   ]
  },
  {
   "cell_type": "code",
   "execution_count": 10,
   "id": "a2709e85",
   "metadata": {},
   "outputs": [
    {
     "data": {
      "text/plain": [
       "DATE       6/18/2015\n",
       "MinTemp         45.0\n",
       "MaxTemp         67.0\n",
       "AvgTemp         56.0\n",
       "Sunrise          544\n",
       "Sunset          1903\n",
       "Name: 533, dtype: object"
      ]
     },
     "execution_count": 10,
     "metadata": {},
     "output_type": "execute_result"
    }
   ],
   "source": [
    "# Answer to Q2 : 2015\n",
    "data.loc[data['MaxTemp'].idxmax()]"
   ]
  },
  {
   "cell_type": "code",
   "execution_count": 16,
   "id": "5451d7fe",
   "metadata": {},
   "outputs": [
    {
     "data": {
      "text/plain": [
       "DATE       0\n",
       "MinTemp    4\n",
       "MaxTemp    4\n",
       "AvgTemp    4\n",
       "Sunrise    0\n",
       "Sunset     0\n",
       "dtype: int64"
      ]
     },
     "execution_count": 16,
     "metadata": {},
     "output_type": "execute_result"
    }
   ],
   "source": [
    "data.isnull().sum()"
   ]
  },
  {
   "cell_type": "code",
   "execution_count": 18,
   "id": "2c71ee79",
   "metadata": {},
   "outputs": [],
   "source": [
    "# Answer to Q3 : Fill NA with Mean\n",
    "data['MinTemp'].fillna(data['MinTemp'].mean(), inplace = True)\n",
    "data['MaxTemp'].fillna(data['MinTemp'].mean(), inplace = True)\n",
    "data['AvgTemp'].fillna(data['MinTemp'].mean(), inplace = True)"
   ]
  },
  {
   "cell_type": "code",
   "execution_count": 19,
   "id": "74811f09",
   "metadata": {},
   "outputs": [
    {
     "data": {
      "text/plain": [
       "DATE       0\n",
       "MinTemp    0\n",
       "MaxTemp    0\n",
       "AvgTemp    0\n",
       "Sunrise    0\n",
       "Sunset     0\n",
       "dtype: int64"
      ]
     },
     "execution_count": 19,
     "metadata": {},
     "output_type": "execute_result"
    }
   ],
   "source": [
    "data.isnull().sum()"
   ]
  },
  {
   "cell_type": "code",
   "execution_count": 34,
   "id": "4342d98b",
   "metadata": {},
   "outputs": [
    {
     "name": "stdout",
     "output_type": "stream",
     "text": [
      "adf, p-value of MinTemp -4.396859 0.000301 \n",
      "adf, p-value of MaxTemp -7.456142 0.000000 \n",
      "adf, p-value of AvgTemp -6.618515 0.000000 \n",
      "adf, p-value of Sunrise -3.207463 0.019557 \n",
      "adf, p-value of Sunset -2.211108 0.202239 \n"
     ]
    }
   ],
   "source": [
    "# Answer to Q6, Q7 : Stationary , p < 0.05 data is stationary\n",
    "# 'Sunrise' timeseries data is stationary, based on fuller statistical test\n",
    "from statsmodels.tsa.stattools import adfuller\n",
    "adf_results = {}\n",
    "\n",
    "for col in data.loc[:, data.columns != 'DATE'].columns.values: \n",
    "    adf_results[col] = adfuller(data[col])\n",
    "    print('adf, p-value of %s %f %f '% (col,adf_results[col][0],adf_results[col][1]))"
   ]
  },
  {
   "cell_type": "code",
   "execution_count": 45,
   "id": "b0a21e7c",
   "metadata": {},
   "outputs": [
    {
     "name": "stdout",
     "output_type": "stream",
     "text": [
      "Performing stepwise search to minimize aic\n",
      " ARIMA(2,0,2)(0,0,0)[0] intercept   : AIC=10525.935, Time=1.70 sec\n",
      " ARIMA(0,0,0)(0,0,0)[0] intercept   : AIC=18718.599, Time=0.03 sec\n",
      " ARIMA(1,0,0)(0,0,0)[0] intercept   : AIC=inf, Time=0.24 sec\n",
      " ARIMA(0,0,1)(0,0,0)[0] intercept   : AIC=16391.734, Time=0.60 sec\n",
      " ARIMA(0,0,0)(0,0,0)[0]             : AIC=28580.923, Time=0.02 sec\n",
      " ARIMA(1,0,2)(0,0,0)[0] intercept   : AIC=10545.429, Time=0.34 sec\n",
      " ARIMA(2,0,1)(0,0,0)[0] intercept   : AIC=10526.150, Time=1.43 sec\n",
      " ARIMA(3,0,2)(0,0,0)[0] intercept   : AIC=10517.107, Time=1.81 sec\n",
      " ARIMA(3,0,1)(0,0,0)[0] intercept   : AIC=10525.381, Time=1.90 sec\n",
      " ARIMA(4,0,2)(0,0,0)[0] intercept   : AIC=10497.243, Time=2.22 sec\n",
      " ARIMA(4,0,1)(0,0,0)[0] intercept   : AIC=10507.171, Time=2.09 sec\n",
      " ARIMA(5,0,2)(0,0,0)[0] intercept   : AIC=10450.895, Time=2.73 sec\n",
      " ARIMA(5,0,1)(0,0,0)[0] intercept   : AIC=10452.561, Time=1.91 sec\n",
      " ARIMA(5,0,3)(0,0,0)[0] intercept   : AIC=10449.414, Time=2.88 sec\n",
      " ARIMA(4,0,3)(0,0,0)[0] intercept   : AIC=10467.207, Time=2.40 sec\n",
      " ARIMA(5,0,4)(0,0,0)[0] intercept   : AIC=10450.216, Time=3.09 sec\n",
      " ARIMA(4,0,4)(0,0,0)[0] intercept   : AIC=10448.946, Time=2.76 sec\n",
      " ARIMA(3,0,4)(0,0,0)[0] intercept   : AIC=10447.187, Time=2.72 sec\n",
      " ARIMA(2,0,4)(0,0,0)[0] intercept   : AIC=10447.216, Time=0.94 sec\n",
      " ARIMA(3,0,3)(0,0,0)[0] intercept   : AIC=10479.869, Time=2.36 sec\n",
      " ARIMA(3,0,5)(0,0,0)[0] intercept   : AIC=10442.443, Time=2.90 sec\n",
      " ARIMA(2,0,5)(0,0,0)[0] intercept   : AIC=10427.487, Time=2.90 sec\n",
      " ARIMA(1,0,5)(0,0,0)[0] intercept   : AIC=10446.782, Time=1.20 sec\n",
      " ARIMA(1,0,4)(0,0,0)[0] intercept   : AIC=10446.529, Time=1.20 sec\n",
      " ARIMA(2,0,5)(0,0,0)[0]             : AIC=10428.279, Time=0.84 sec\n",
      "\n",
      "Best model:  ARIMA(2,0,5)(0,0,0)[0] intercept\n",
      "Total fit time: 43.220 seconds\n"
     ]
    },
    {
     "data": {
      "text/html": [
       "<table class=\"simpletable\">\n",
       "<caption>SARIMAX Results</caption>\n",
       "<tr>\n",
       "  <th>Dep. Variable:</th>           <td>y</td>        <th>  No. Observations:  </th>   <td>1825</td>   \n",
       "</tr>\n",
       "<tr>\n",
       "  <th>Model:</th>           <td>SARIMAX(2, 0, 5)</td> <th>  Log Likelihood     </th> <td>-5204.744</td>\n",
       "</tr>\n",
       "<tr>\n",
       "  <th>Date:</th>            <td>Tue, 05 Jul 2022</td> <th>  AIC                </th> <td>10427.487</td>\n",
       "</tr>\n",
       "<tr>\n",
       "  <th>Time:</th>                <td>18:42:49</td>     <th>  BIC                </th> <td>10477.071</td>\n",
       "</tr>\n",
       "<tr>\n",
       "  <th>Sample:</th>                  <td>0</td>        <th>  HQIC               </th> <td>10445.778</td>\n",
       "</tr>\n",
       "<tr>\n",
       "  <th></th>                      <td> - 1825</td>     <th>                     </th>     <td> </td>    \n",
       "</tr>\n",
       "<tr>\n",
       "  <th>Covariance Type:</th>        <td>opg</td>       <th>                     </th>     <td> </td>    \n",
       "</tr>\n",
       "</table>\n",
       "<table class=\"simpletable\">\n",
       "<tr>\n",
       "      <td></td>         <th>coef</th>     <th>std err</th>      <th>z</th>      <th>P>|z|</th>  <th>[0.025</th>    <th>0.975]</th>  \n",
       "</tr>\n",
       "<tr>\n",
       "  <th>intercept</th> <td>    0.7244</td> <td>    0.764</td> <td>    0.948</td> <td> 0.343</td> <td>   -0.773</td> <td>    2.222</td>\n",
       "</tr>\n",
       "<tr>\n",
       "  <th>ar.L1</th>     <td>    1.9412</td> <td>    0.078</td> <td>   24.738</td> <td> 0.000</td> <td>    1.787</td> <td>    2.095</td>\n",
       "</tr>\n",
       "<tr>\n",
       "  <th>ar.L2</th>     <td>   -0.9424</td> <td>    0.077</td> <td>  -12.195</td> <td> 0.000</td> <td>   -1.094</td> <td>   -0.791</td>\n",
       "</tr>\n",
       "<tr>\n",
       "  <th>ma.L1</th>     <td>   -0.9373</td> <td>    0.115</td> <td>   -8.124</td> <td> 0.000</td> <td>   -1.163</td> <td>   -0.711</td>\n",
       "</tr>\n",
       "<tr>\n",
       "  <th>ma.L2</th>     <td>   -0.0020</td> <td>    0.162</td> <td>   -0.013</td> <td> 0.990</td> <td>   -0.320</td> <td>    0.316</td>\n",
       "</tr>\n",
       "<tr>\n",
       "  <th>ma.L3</th>     <td>    0.0217</td> <td>    0.174</td> <td>    0.125</td> <td> 0.901</td> <td>   -0.320</td> <td>    0.364</td>\n",
       "</tr>\n",
       "<tr>\n",
       "  <th>ma.L4</th>     <td>   -0.2852</td> <td>    0.112</td> <td>   -2.551</td> <td> 0.011</td> <td>   -0.504</td> <td>   -0.066</td>\n",
       "</tr>\n",
       "<tr>\n",
       "  <th>ma.L5</th>     <td>    0.2824</td> <td>    0.023</td> <td>   12.168</td> <td> 0.000</td> <td>    0.237</td> <td>    0.328</td>\n",
       "</tr>\n",
       "<tr>\n",
       "  <th>sigma2</th>    <td>   18.1171</td> <td>    0.217</td> <td>   83.587</td> <td> 0.000</td> <td>   17.692</td> <td>   18.542</td>\n",
       "</tr>\n",
       "</table>\n",
       "<table class=\"simpletable\">\n",
       "<tr>\n",
       "  <th>Ljung-Box (L1) (Q):</th>     <td>0.12</td> <th>  Jarque-Bera (JB):  </th> <td>464102.39</td>\n",
       "</tr>\n",
       "<tr>\n",
       "  <th>Prob(Q):</th>                <td>0.73</td> <th>  Prob(JB):          </th>   <td>0.00</td>   \n",
       "</tr>\n",
       "<tr>\n",
       "  <th>Heteroskedasticity (H):</th> <td>0.65</td> <th>  Skew:              </th>   <td>1.61</td>   \n",
       "</tr>\n",
       "<tr>\n",
       "  <th>Prob(H) (two-sided):</th>    <td>0.00</td> <th>  Kurtosis:          </th>   <td>81.06</td>  \n",
       "</tr>\n",
       "</table><br/><br/>Warnings:<br/>[1] Covariance matrix calculated using the outer product of gradients (complex-step)."
      ],
      "text/plain": [
       "<class 'statsmodels.iolib.summary.Summary'>\n",
       "\"\"\"\n",
       "                               SARIMAX Results                                \n",
       "==============================================================================\n",
       "Dep. Variable:                      y   No. Observations:                 1825\n",
       "Model:               SARIMAX(2, 0, 5)   Log Likelihood               -5204.744\n",
       "Date:                Tue, 05 Jul 2022   AIC                          10427.487\n",
       "Time:                        18:42:49   BIC                          10477.071\n",
       "Sample:                             0   HQIC                         10445.778\n",
       "                               - 1825                                         \n",
       "Covariance Type:                  opg                                         \n",
       "==============================================================================\n",
       "                 coef    std err          z      P>|z|      [0.025      0.975]\n",
       "------------------------------------------------------------------------------\n",
       "intercept      0.7244      0.764      0.948      0.343      -0.773       2.222\n",
       "ar.L1          1.9412      0.078     24.738      0.000       1.787       2.095\n",
       "ar.L2         -0.9424      0.077    -12.195      0.000      -1.094      -0.791\n",
       "ma.L1         -0.9373      0.115     -8.124      0.000      -1.163      -0.711\n",
       "ma.L2         -0.0020      0.162     -0.013      0.990      -0.320       0.316\n",
       "ma.L3          0.0217      0.174      0.125      0.901      -0.320       0.364\n",
       "ma.L4         -0.2852      0.112     -2.551      0.011      -0.504      -0.066\n",
       "ma.L5          0.2824      0.023     12.168      0.000       0.237       0.328\n",
       "sigma2        18.1171      0.217     83.587      0.000      17.692      18.542\n",
       "===================================================================================\n",
       "Ljung-Box (L1) (Q):                   0.12   Jarque-Bera (JB):            464102.39\n",
       "Prob(Q):                              0.73   Prob(JB):                         0.00\n",
       "Heteroskedasticity (H):               0.65   Skew:                             1.61\n",
       "Prob(H) (two-sided):                  0.00   Kurtosis:                        81.06\n",
       "===================================================================================\n",
       "\n",
       "Warnings:\n",
       "[1] Covariance matrix calculated using the outer product of gradients (complex-step).\n",
       "\"\"\""
      ]
     },
     "execution_count": 45,
     "metadata": {},
     "output_type": "execute_result"
    }
   ],
   "source": [
    "# Answer to Q5 : SARIMAX(2, 0, 5) | ARIMA(2,0,5)(0,0,0)[0]\n",
    "# Determine the best p,q,d param values\n",
    "from pmdarima import auto_arima\n",
    "arima = auto_arima(data['Sunrise'], trace=True)\n",
    "arima.summary()"
   ]
  },
  {
   "cell_type": "code",
   "execution_count": 46,
   "id": "e9512cfa",
   "metadata": {},
   "outputs": [
    {
     "name": "stderr",
     "output_type": "stream",
     "text": [
      "D:\\Anaconda\\lib\\site-packages\\statsmodels\\tsa\\arima_model.py:472: FutureWarning: \n",
      "statsmodels.tsa.arima_model.ARMA and statsmodels.tsa.arima_model.ARIMA have\n",
      "been deprecated in favor of statsmodels.tsa.arima.model.ARIMA (note the .\n",
      "between arima and model) and\n",
      "statsmodels.tsa.SARIMAX. These will be removed after the 0.12 release.\n",
      "\n",
      "statsmodels.tsa.arima.model.ARIMA makes use of the statespace framework and\n",
      "is both well tested and maintained.\n",
      "\n",
      "To silence this warning and continue using ARMA and ARIMA until they are\n",
      "removed, use:\n",
      "\n",
      "import warnings\n",
      "warnings.filterwarnings('ignore', 'statsmodels.tsa.arima_model.ARMA',\n",
      "                        FutureWarning)\n",
      "warnings.filterwarnings('ignore', 'statsmodels.tsa.arima_model.ARIMA',\n",
      "                        FutureWarning)\n",
      "\n",
      "  warnings.warn(ARIMA_DEPRECATION_WARN, FutureWarning)\n",
      "D:\\Anaconda\\lib\\site-packages\\statsmodels\\base\\model.py:547: HessianInversionWarning: Inverting hessian failed, no bse or cov_params available\n",
      "  warnings.warn('Inverting hessian failed, no bse or cov_params '\n"
     ]
    },
    {
     "data": {
      "text/html": [
       "<table class=\"simpletable\">\n",
       "<caption>ARMA Model Results</caption>\n",
       "<tr>\n",
       "  <th>Dep. Variable:</th>      <td>Sunrise</td>     <th>  No. Observations:  </th>    <td>300</td>  \n",
       "</tr>\n",
       "<tr>\n",
       "  <th>Model:</th>            <td>ARMA(2, 5)</td>    <th>  Log Likelihood     </th> <td>-882.038</td>\n",
       "</tr>\n",
       "<tr>\n",
       "  <th>Method:</th>             <td>css-mle</td>     <th>  S.D. of innovations</th>   <td>4.519</td> \n",
       "</tr>\n",
       "<tr>\n",
       "  <th>Date:</th>          <td>Tue, 05 Jul 2022</td> <th>  AIC                </th> <td>1782.077</td>\n",
       "</tr>\n",
       "<tr>\n",
       "  <th>Time:</th>              <td>18:43:36</td>     <th>  BIC                </th> <td>1815.411</td>\n",
       "</tr>\n",
       "<tr>\n",
       "  <th>Sample:</th>                <td>0</td>        <th>  HQIC               </th> <td>1795.417</td>\n",
       "</tr>\n",
       "<tr>\n",
       "  <th></th>                       <td> </td>        <th>                     </th>     <td> </td>   \n",
       "</tr>\n",
       "</table>\n",
       "<table class=\"simpletable\">\n",
       "<tr>\n",
       "        <td></td>           <th>coef</th>     <th>std err</th>      <th>z</th>      <th>P>|z|</th>  <th>[0.025</th>    <th>0.975]</th>  \n",
       "</tr>\n",
       "<tr>\n",
       "  <th>const</th>         <td>  598.1427</td> <td>    5.629</td> <td>  106.255</td> <td> 0.000</td> <td>  587.109</td> <td>  609.176</td>\n",
       "</tr>\n",
       "<tr>\n",
       "  <th>ar.L1.Sunrise</th> <td>    1.9964</td> <td>    0.003</td> <td>  673.558</td> <td> 0.000</td> <td>    1.991</td> <td>    2.002</td>\n",
       "</tr>\n",
       "<tr>\n",
       "  <th>ar.L2.Sunrise</th> <td>   -0.9968</td> <td>    0.003</td> <td> -333.391</td> <td> 0.000</td> <td>   -1.003</td> <td>   -0.991</td>\n",
       "</tr>\n",
       "<tr>\n",
       "  <th>ma.L1.Sunrise</th> <td>   -1.0254</td> <td>    0.058</td> <td>  -17.815</td> <td> 0.000</td> <td>   -1.138</td> <td>   -0.913</td>\n",
       "</tr>\n",
       "<tr>\n",
       "  <th>ma.L2.Sunrise</th> <td>    0.0043</td> <td>    0.079</td> <td>    0.054</td> <td> 0.957</td> <td>   -0.151</td> <td>    0.160</td>\n",
       "</tr>\n",
       "<tr>\n",
       "  <th>ma.L3.Sunrise</th> <td>    0.0150</td> <td>    0.079</td> <td>    0.190</td> <td> 0.850</td> <td>   -0.140</td> <td>    0.170</td>\n",
       "</tr>\n",
       "<tr>\n",
       "  <th>ma.L4.Sunrise</th> <td>   -0.2801</td> <td>    0.079</td> <td>   -3.559</td> <td> 0.000</td> <td>   -0.434</td> <td>   -0.126</td>\n",
       "</tr>\n",
       "<tr>\n",
       "  <th>ma.L5.Sunrise</th> <td>    0.2863</td> <td>    0.057</td> <td>    5.027</td> <td> 0.000</td> <td>    0.175</td> <td>    0.398</td>\n",
       "</tr>\n",
       "</table>\n",
       "<table class=\"simpletable\">\n",
       "<caption>Roots</caption>\n",
       "<tr>\n",
       "    <td></td>   <th>            Real</th>  <th>         Imaginary</th> <th>         Modulus</th>  <th>        Frequency</th>\n",
       "</tr>\n",
       "<tr>\n",
       "  <th>AR.1</th> <td>           1.0014</td> <td>          -0.0210j</td> <td>           1.0016</td> <td>          -0.0033</td>\n",
       "</tr>\n",
       "<tr>\n",
       "  <th>AR.2</th> <td>           1.0014</td> <td>          +0.0210j</td> <td>           1.0016</td> <td>           0.0033</td>\n",
       "</tr>\n",
       "<tr>\n",
       "  <th>MA.1</th> <td>          -1.3709</td> <td>          -0.0000j</td> <td>           1.3709</td> <td>          -0.5000</td>\n",
       "</tr>\n",
       "<tr>\n",
       "  <th>MA.2</th> <td>           0.0064</td> <td>          -1.3808j</td> <td>           1.3808</td> <td>          -0.2493</td>\n",
       "</tr>\n",
       "<tr>\n",
       "  <th>MA.3</th> <td>           0.0064</td> <td>          +1.3808j</td> <td>           1.3808</td> <td>           0.2493</td>\n",
       "</tr>\n",
       "<tr>\n",
       "  <th>MA.4</th> <td>           1.0000</td> <td>          -0.0000j</td> <td>           1.0000</td> <td>          -0.0000</td>\n",
       "</tr>\n",
       "<tr>\n",
       "  <th>MA.5</th> <td>           1.3366</td> <td>          -0.0000j</td> <td>           1.3366</td> <td>          -0.0000</td>\n",
       "</tr>\n",
       "</table>"
      ],
      "text/plain": [
       "<class 'statsmodels.iolib.summary.Summary'>\n",
       "\"\"\"\n",
       "                              ARMA Model Results                              \n",
       "==============================================================================\n",
       "Dep. Variable:                Sunrise   No. Observations:                  300\n",
       "Model:                     ARMA(2, 5)   Log Likelihood                -882.038\n",
       "Method:                       css-mle   S.D. of innovations              4.519\n",
       "Date:                Tue, 05 Jul 2022   AIC                           1782.077\n",
       "Time:                        18:43:36   BIC                           1815.411\n",
       "Sample:                             0   HQIC                          1795.417\n",
       "                                                                              \n",
       "=================================================================================\n",
       "                    coef    std err          z      P>|z|      [0.025      0.975]\n",
       "---------------------------------------------------------------------------------\n",
       "const           598.1427      5.629    106.255      0.000     587.109     609.176\n",
       "ar.L1.Sunrise     1.9964      0.003    673.558      0.000       1.991       2.002\n",
       "ar.L2.Sunrise    -0.9968      0.003   -333.391      0.000      -1.003      -0.991\n",
       "ma.L1.Sunrise    -1.0254      0.058    -17.815      0.000      -1.138      -0.913\n",
       "ma.L2.Sunrise     0.0043      0.079      0.054      0.957      -0.151       0.160\n",
       "ma.L3.Sunrise     0.0150      0.079      0.190      0.850      -0.140       0.170\n",
       "ma.L4.Sunrise    -0.2801      0.079     -3.559      0.000      -0.434      -0.126\n",
       "ma.L5.Sunrise     0.2863      0.057      5.027      0.000       0.175       0.398\n",
       "                                    Roots                                    \n",
       "=============================================================================\n",
       "                  Real          Imaginary           Modulus         Frequency\n",
       "-----------------------------------------------------------------------------\n",
       "AR.1            1.0014           -0.0210j            1.0016           -0.0033\n",
       "AR.2            1.0014           +0.0210j            1.0016            0.0033\n",
       "MA.1           -1.3709           -0.0000j            1.3709           -0.5000\n",
       "MA.2            0.0064           -1.3808j            1.3808           -0.2493\n",
       "MA.3            0.0064           +1.3808j            1.3808            0.2493\n",
       "MA.4            1.0000           -0.0000j            1.0000           -0.0000\n",
       "MA.5            1.3366           -0.0000j            1.3366           -0.0000\n",
       "-----------------------------------------------------------------------------\n",
       "\"\"\""
      ]
     },
     "execution_count": 46,
     "metadata": {},
     "output_type": "execute_result"
    }
   ],
   "source": [
    "# Answer to Q9 : Coeff of AR : 0.99\n",
    "from statsmodels.tsa.arima_model import ARIMA\n",
    "train = data['Sunrise'].iloc[:300]\n",
    "test = data['Sunrise'].iloc[301:]\n",
    "model = ARIMA(train, order=(2, 0, 5))\n",
    "model = model.fit()\n",
    "model.summary()"
   ]
  },
  {
   "cell_type": "code",
   "execution_count": 49,
   "id": "142fc4d3",
   "metadata": {},
   "outputs": [
    {
     "data": {
      "image/png": "[encoded data removed]",
      "text/plain": [
       "<Figure size 432x288 with 1 Axes>"
      ]
     },
     "execution_count": 49,
     "metadata": {},
     "output_type": "execute_result"
    },
    {
     "data": {
      "image/png": "[encoded data removed]",
      "text/plain": [
       "<Figure size 432x288 with 1 Axes>"
      ]
     },
     "metadata": {
      "needs_background": "light"
     },
     "output_type": "display_data"
    }
   ],
   "source": [
    "model.plot_predict(dynamic=False)"
   ]
  },
  {
   "cell_type": "code",
   "execution_count": 50,
   "id": "e4da70a0",
   "metadata": {},
   "outputs": [],
   "source": [
    "predict = model.predict(start=len(train),end=len(train)+len(test)-1,dynamic=True)"
   ]
  },
  {
   "cell_type": "code",
   "execution_count": 51,
   "id": "20c80fae",
   "metadata": {},
   "outputs": [],
   "source": [
    "import matplotlib.pyplot as plt"
   ]
  },
  {
   "cell_type": "code",
   "execution_count": 52,
   "id": "12321e5f",
   "metadata": {},
   "outputs": [
    {
     "data": {
      "image/png": "[encoded data removed]",
      "text/plain": [
       "<Figure size 432x288 with 1 Axes>"
      ]
     },
     "metadata": {
      "needs_background": "light"
     },
     "output_type": "display_data"
    }
   ],
   "source": [
    "plt.plot(data['Sunrise'])\n",
    "plt.plot(predict)\n",
    "plt.show()"
   ]
  },
  {
   "cell_type": "code",
   "execution_count": 55,
   "id": "dce6985d",
   "metadata": {},
   "outputs": [
    {
     "data": {
      "text/plain": [
       "<AxesSubplot:>"
      ]
     },
     "execution_count": 55,
     "metadata": {},
     "output_type": "execute_result"
    },
    {
     "data": {
      "image/png": "[encoded data removed]",
      "text/plain": [
       "<Figure size 432x288 with 1 Axes>"
      ]
     },
     "metadata": {
      "needs_background": "light"
     },
     "output_type": "display_data"
    }
   ],
   "source": [
    "# Error, residual plot\n",
    "model.resid.plot()"
   ]
  },
  {
   "cell_type": "code",
   "execution_count": 56,
   "id": "63348da0",
   "metadata": {},
   "outputs": [
    {
     "data": {
      "text/plain": [
       "0.2657805421089192"
      ]
     },
     "execution_count": 56,
     "metadata": {},
     "output_type": "execute_result"
    }
   ],
   "source": [
    "# Answer to Q 8 : 2.6%\n",
    "model.resid.mean()"
   ]
  },
  {
   "cell_type": "code",
   "execution_count": null,
   "id": "ce32b60d",
   "metadata": {},
   "outputs": [],
   "source": [
    "# Answer to Q10 : Stationary refers to time series data that mean and variance do not vary across time\n",
    "# Answer to Q11 :  \n",
    "# Answer to Q12 : Autocorrelation and multiple-box plot\n",
    "# Answer to Q13 : True\n",
    "# Answer to Q14 : \n",
    "# Answer to Q15 : All of above"
   ]
  }
 ],
 "metadata": {
  "kernelspec": {
   "display_name": "Python 3 (ipykernel)",
   "language": "python",
   "name": "python3"
  },
  "language_info": {
   "codemirror_mode": {
    "name": "ipython",
    "version": 3
   },
   "file_extension": ".py",
   "mimetype": "text/x-python",
   "name": "python",
   "nbconvert_exporter": "python",
   "pygments_lexer": "ipython3",
   "version": "3.9.7"
  }
 },
 "nbformat": 4,
 "nbformat_minor": 5
}
